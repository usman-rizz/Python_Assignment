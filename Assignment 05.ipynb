{
 "cells": [
  {
   "cell_type": "code",
   "execution_count": 6,
   "id": "43110cbc",
   "metadata": {},
   "outputs": [
    {
     "name": "stdout",
     "output_type": "stream",
     "text": [
      "1 2 3 4 5 6 7 8 9 10 "
     ]
    }
   ],
   "source": [
    "# 1. Write a Python program to print the numbers from 1 to 10 using a for loop.\n",
    "\n",
    "for i in range(1, 11):\n",
    "        print(i,end=\" \")\n"
   ]
  },
  {
   "cell_type": "code",
   "execution_count": 8,
   "id": "118a9e73",
   "metadata": {},
   "outputs": [
    {
     "name": "stdout",
     "output_type": "stream",
     "text": [
      "20 19 18 17 16 15 14 13 12 11 10 9 8 7 6 5 4 3 2 1 "
     ]
    }
   ],
   "source": [
    "# 2. Write a Python program to print the numbers from 20 to 1 using a while loop.\n",
    "\n",
    "i = 20\n",
    "while i >= 1:\n",
    "    print(i,end=\" \")\n",
    "    i -= 1"
   ]
  },
  {
   "cell_type": "code",
   "execution_count": null,
   "id": "b8b2872e",
   "metadata": {},
   "outputs": [],
   "source": [
    "# 3. Write a program to print even numbers from 1 to 10.\n",
    "for i in range(1, 11):\n",
    "    if i % 2 == 0:\n",
    "        print(i)"
   ]
  },
  {
   "cell_type": "code",
   "execution_count": null,
   "id": "0f551a4c",
   "metadata": {},
   "outputs": [],
   "source": [
    "# 4. Write a program that prompts the user to enter a number n and prints all the numbers from 1 to n.\n",
    "n = int(input(\"Enter a number: \"))\n",
    "for i in range(1, n+1):\n",
    "    print(i)"
   ]
  },
  {
   "cell_type": "code",
   "execution_count": null,
   "id": "787d8571",
   "metadata": {},
   "outputs": [],
   "source": [
    "# 5. Write a program that prompts the user to enter a number n, and then prints all the odd numbers between 1 and n.\n",
    "n = int(input(\"Enter a number: \"))\n",
    "for i in range(1, n+1):\n",
    "    if i % 2 != 0:\n",
    "        print(i)"
   ]
  },
  {
   "cell_type": "code",
   "execution_count": null,
   "id": "d7894e61",
   "metadata": {},
   "outputs": [],
   "source": [
    "# 6. Write a program that prints 'Happy Birthday!' five times on screen.\n",
    "for i in range(5):\n",
    "    print(\"Happy Birthday!\")"
   ]
  },
  {
   "cell_type": "code",
   "execution_count": null,
   "id": "95e04cc8",
   "metadata": {},
   "outputs": [],
   "source": [
    "# 7. Write a program that takes a number n as input and generates the first n terms of the series formed by squaring the natural numbers.\n",
    "n = int(input(\"Enter a number: \"))\n",
    "print(\"The first\", n, \"terms of the series are:\")\n",
    "for i in range(1, n+1):\n",
    "    print(i * i, end=\" \")"
   ]
  },
  {
   "cell_type": "code",
   "execution_count": null,
   "id": "5fafc709",
   "metadata": {},
   "outputs": [],
   "source": [
    "# 8. Write a program that prompts the user to input a number and prints its multiplication table.\n",
    "n = int(input(\"Enter a number: \"))\n",
    "for i in range(1, 11):\n",
    "    print(n, \"x\", i, \"=\", n * i)"
   ]
  },
  {
   "cell_type": "code",
   "execution_count": null,
   "id": "72d5027e",
   "metadata": {},
   "outputs": [],
   "source": [
    "# 9. Write a Python program to print the first 8 terms of an arithmetic progression starting with 3 and having a common difference of 4.\n",
    "a = 3\n",
    "d = 4\n",
    "for i in range(8):\n",
    "    print(a + i*d, end=\" \")"
   ]
  },
  {
   "cell_type": "code",
   "execution_count": null,
   "id": "141d72ba",
   "metadata": {},
   "outputs": [],
   "source": [
    "# 10. Write a Python program to print the first 6 terms of a geometric sequence starting with 2 and having a common ratio of 3.\n",
    "a = 2\n",
    "r = 3\n",
    "term = a\n",
    "for i in range(6):\n",
    "    print(term, end=\" \")\n",
    "    term = term * r"
   ]
  },
  {
   "cell_type": "code",
   "execution_count": null,
   "id": "96933855",
   "metadata": {},
   "outputs": [],
   "source": [
    "# 11. Write a program that asks the user for a positive integer value and calculates the sum from 1 to that number.\n",
    "n = int(input(\"Enter a positive integer: \"))\n",
    "total = 0\n",
    "for i in range(1, n+1):\n",
    "    total = total + i\n",
    "print(\"The sum is:\", total)\n"
   ]
  },
  {
   "cell_type": "code",
   "execution_count": null,
   "id": "52810a24",
   "metadata": {},
   "outputs": [],
   "source": [
    "# 12. Write a program that takes a positive integer N and calculates the sum of reciprocals (1/n).\n",
    "n = int(input(\"Enter a positive integer: \"))\n",
    "total = 0\n",
    "for i in range(1, n+1):\n",
    "    total = total + 1/i\n",
    "print(\"The sum of reciprocals from 1 to\", n, \"is:\", round(total, 2))"
   ]
  },
  {
   "cell_type": "code",
   "execution_count": null,
   "id": "01ebb97e",
   "metadata": {},
   "outputs": [],
   "source": [
    "# 13. Write a program that prompts the user to enter a number 5 times and then display the running total.\n",
    "total = 0\n",
    "for i in range(5):\n",
    "    num = int(input(\"Enter a number: \"))\n",
    "    total = total + num\n",
    "print(\"The final running total is:\", total)"
   ]
  },
  {
   "cell_type": "code",
   "execution_count": null,
   "id": "d2846c27",
   "metadata": {},
   "outputs": [],
   "source": [
    "# 14. Write a program that calculates the factorial of a number entered by the user.\n",
    "n = int(input(\"Enter a number: \"))\n",
    "\n",
    "if n < 0:\n",
    "    print(\"Factorial does not exist for negative numbers\")\n",
    "elif n == 0:\n",
    "    print(\"The factorial of 0 is 1\")\n",
    "else:\n",
    "    fact = 1\n",
    "    for i in range(1, n+1):\n",
    "        fact = fact * i\n",
    "    print(\"The factorial of\", n, \"is:\", fact)"
   ]
  },
  {
   "cell_type": "code",
   "execution_count": null,
   "id": "51b26247",
   "metadata": {},
   "outputs": [],
   "source": [
    "# 15. Write a Python program that calculates base^exponent without using ** operator.\n",
    "base = int(input(\"Enter base: \"))\n",
    "exp = int(input(\"Enter exponent: \"))\n",
    "\n",
    "result = 1\n",
    "\n",
    "if exp >= 0:\n",
    "    for i in range(exp):\n",
    "        result = result * base\n",
    "else:\n",
    "    for i in range(-exp):\n",
    "        result = result * base\n",
    "    result = 1 / result\n",
    "\n",
    "print(\"Result:\", result)"
   ]
  },
  {
   "cell_type": "code",
   "execution_count": null,
   "id": "9cf67563",
   "metadata": {},
   "outputs": [],
   "source": []
  }
 ],
 "metadata": {
  "kernelspec": {
   "display_name": "base",
   "language": "python",
   "name": "python3"
  },
  "language_info": {
   "codemirror_mode": {
    "name": "ipython",
    "version": 3
   },
   "file_extension": ".py",
   "mimetype": "text/x-python",
   "name": "python",
   "nbconvert_exporter": "python",
   "pygments_lexer": "ipython3",
   "version": "3.13.5"
  }
 },
 "nbformat": 4,
 "nbformat_minor": 5
}
