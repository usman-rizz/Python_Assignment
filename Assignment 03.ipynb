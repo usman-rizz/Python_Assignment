{
 "cells": [
  {
   "cell_type": "code",
   "execution_count": 2,
   "id": "1812debe",
   "metadata": {},
   "outputs": [
    {
     "name": "stdout",
     "output_type": "stream",
     "text": [
      "Number of vowels: 2\n"
     ]
    }
   ],
   "source": [
    "# 1. Write a program that accepts a string from user. Your program should count and display number of \n",
    "# vowels in that string. \n",
    "# without def fun\n",
    "\n",
    "vov = ['a', 'e', 'i', 'o', 'u']\n",
    "str = input(\"Enter a string: \")\n",
    "count = 0\n",
    "for i in str:\n",
    "    if i in vov:\n",
    "        count += 1\n",
    "print(\"Number of vowels:\", count)\n",
    "\n"
   ]
  },
  {
   "cell_type": "code",
   "execution_count": 3,
   "id": "450f79ad",
   "metadata": {},
   "outputs": [
    {
     "name": "stdout",
     "output_type": "stream",
     "text": [
      "Number of uppercase letters: 2\n",
      "Number of lowercase letters: 3\n",
      "Number of digits: 0\n",
      "Number of whitespace characters: 0\n"
     ]
    }
   ],
   "source": [
    "#  2. Write a program that reads a string from keyboard and display:\n",
    "# * The number of uppercase letters in the string\n",
    "# * The number of lowercase letters in the string\n",
    "# * The number of digits in the string\n",
    "# * The number of whitespace characters in the string \n",
    "\n",
    "\n",
    "name = input((\"Enter a string: \"))\n",
    "\n",
    "upper_count = 0\n",
    "lower_count = 0\n",
    "digit_count = 0\n",
    "space_count = 0\n",
    "\n",
    "for char in name:\n",
    "    if char.isupper():\n",
    "        upper_count += 1\n",
    "    elif char.islower():\n",
    "        lower_count += 1\n",
    "    elif char.isdigit():\n",
    "        digit_count += 1\n",
    "    elif char.isspace():\n",
    "        space_count += 1\n",
    "\n",
    "print(\"Number of uppercase letters:\", upper_count)\n",
    "print(\"Number of lowercase letters:\", lower_count)\n",
    "print(\"Number of digits:\", digit_count)\n",
    "print(\"Number of whitespace characters:\", space_count)\n",
    "\n"
   ]
  },
  {
   "cell_type": "code",
   "execution_count": 9,
   "id": "44627fa9",
   "metadata": {},
   "outputs": [
    {
     "name": "stdout",
     "output_type": "stream",
     "text": [
      "Original name: Osman\n",
      "New name: nsmaO\n"
     ]
    }
   ],
   "source": [
    "# 3. Write a Python program that accepts a string from user. Your program should create and display a \n",
    "# new string where the first and last characters have been exchanged.\n",
    "\n",
    "name = input(\"Enter a name: \")\n",
    "print(f\"Original name: {name}\")\n",
    "\n",
    "if len(name) > 1:\n",
    "    newName = name[-1] + name[1:-1] + name[0]\n",
    "    print(f\"New name: {newName}\")\n",
    "else:\n",
    "    print(\"Name is too short to exchange characters.\")\n"
   ]
  },
  {
   "cell_type": "code",
   "execution_count": 11,
   "id": "ad22e570",
   "metadata": {},
   "outputs": [
    {
     "name": "stdout",
     "output_type": "stream",
     "text": [
      "Original name: usman\n",
      "Reversed name: namsu\n"
     ]
    }
   ],
   "source": [
    "# 4. Write a Python program that accepts a string from user. Your program should create a new string in \n",
    "# reverse of first string and display it.\n",
    "\n",
    "name = input(\"Enter a name: \")\n",
    "print(f\"Original name: {name}\")\n",
    "\n",
    "reverse_name = name[::-1]\n",
    "print(f\"Reversed name: {reverse_name}\")"
   ]
  },
  {
   "cell_type": "code",
   "execution_count": 12,
   "id": "f4f34fa0",
   "metadata": {},
   "outputs": [
    {
     "name": "stdout",
     "output_type": "stream",
     "text": [
      "Original name: Examination2021\n",
      "Shifted name: xamination2021E\n"
     ]
    }
   ],
   "source": [
    "#  5. Write a Python program that accepts a string from user. Your program should create a new string by \n",
    "# shifting one position to left\n",
    "\n",
    "name = input(\"Enter a name: \")\n",
    "print(f\"Original name: {name}\")\n",
    "\n",
    "if len(name) > 1:\n",
    "    shifted_name = name[1:] + name[0]\n",
    "    print(f\"Shifted name: {shifted_name}\")\n",
    "else:\n",
    "    print(\"Name is too short to shift.\")\n"
   ]
  },
  {
   "cell_type": "code",
   "execution_count": 14,
   "id": "02859997",
   "metadata": {},
   "outputs": [
    {
     "name": "stdout",
     "output_type": "stream",
     "text": [
      "Initials: M. U. R.\n"
     ]
    }
   ],
   "source": [
    "# 6. Write a program that asks the user to input his name and print its initials. Assuming that the user \n",
    "# always types first name, middle name and last name and does not include any unnecessary spaces. \n",
    "# For example, if the user enters Ajay Kumar Garg the program should display A. K. G. \n",
    "# Note:Don't use split() method \n",
    "\n",
    "fisrtName = input(\"Enter your first name: \")\n",
    "middleName = input(\"Enter your middle name: \")\n",
    "lastName = input(\"Enter your last name: \")\n",
    "\n",
    "F = fisrtName[0]\n",
    "M = middleName[0]\n",
    "L = lastName[0]\n",
    "\n",
    "print(f\"Initials: {F}. {M}. {L}.\")"
   ]
  },
  {
   "cell_type": "code",
   "execution_count": 15,
   "id": "0888836f",
   "metadata": {},
   "outputs": [
    {
     "name": "stdout",
     "output_type": "stream",
     "text": [
      "mqm is a palindrome.\n"
     ]
    }
   ],
   "source": [
    "# 7. A palindrome is a string that reads the same backward as forward. For example, the words dad, \n",
    "# madam and radar are all palindromes. Write a programs that determines whether the string is a \n",
    "# palindrome. \n",
    "# Note: do not use reverse() method  \n",
    "\n",
    "def is_palindrome(s):\n",
    "    length = len(s)\n",
    "    for i in range(length // 2):\n",
    "        if s[i] != s[length - 1 - i]:\n",
    "            return False\n",
    "    return True\n",
    "\n",
    "word = input(\"Enter a word: \")\n",
    "if is_palindrome(word):\n",
    "    print(f\"{word} is a palindrome.\")\n",
    "else:\n",
    "    print(f\"{word} is not a palindrome.\")\n"
   ]
  },
  {
   "cell_type": "code",
   "execution_count": 16,
   "id": "c50dd9b4",
   "metadata": {},
   "outputs": [
    {
     "name": "stdout",
     "output_type": "stream",
     "text": [
      "SHIFT\n",
      "HIFTS\n",
      "IFTSH\n",
      "FTSHI\n",
      "TSHIF\n"
     ]
    }
   ],
   "source": [
    "# 8. Write a program that display following output: \n",
    "# SHIFT \n",
    "# HIFTS \n",
    "# IFTSH \n",
    "# FTSHI \n",
    "# TSHIF \n",
    "# SHIFT\n",
    "\n",
    "name = \"SHIFT\"\n",
    "for i in range(len(name)):\n",
    "    print(name[i:] + name[:i])\n",
    "    "
   ]
  },
  {
   "cell_type": "code",
   "execution_count": 18,
   "id": "83705aff",
   "metadata": {},
   "outputs": [
    {
     "name": "stdout",
     "output_type": "stream",
     "text": [
      "Password is valid.\n"
     ]
    }
   ],
   "source": [
    "#  9. Write a program in python that accepts a string to setup a passwords. Your entered password must \n",
    "# meet the following requirements: \n",
    "# The password must be at least eight characters long. \n",
    "# It must contain at least one uppercase letter. \n",
    "# It must contain at least one lowercase letter. \n",
    "# It must contain at least one numeric digit. \n",
    "# Your program should should perform this validation.   \n",
    "\n",
    "def is_valid_password(password):\n",
    "    if len(password) < 8:\n",
    "        return False\n",
    "    if not any(c.isupper() for c in password):\n",
    "        return False\n",
    "    if not any(c.islower() for c in password):\n",
    "        return False\n",
    "    if not any(c.isdigit() for c in password):\n",
    "        return False\n",
    "    return True\n",
    "\n",
    "password = input(\"Enter a password: \")\n",
    "if is_valid_password(password):\n",
    "    print(\"Password is valid.\")\n",
    "else:\n",
    "    print(\"Password is invalid.\")\n"
   ]
  },
  {
   "cell_type": "code",
   "execution_count": null,
   "id": "284bb292",
   "metadata": {},
   "outputs": [],
   "source": []
  }
 ],
 "metadata": {
  "kernelspec": {
   "display_name": "base",
   "language": "python",
   "name": "python3"
  },
  "language_info": {
   "codemirror_mode": {
    "name": "ipython",
    "version": 3
   },
   "file_extension": ".py",
   "mimetype": "text/x-python",
   "name": "python",
   "nbconvert_exporter": "python",
   "pygments_lexer": "ipython3",
   "version": "3.13.5"
  }
 },
 "nbformat": 4,
 "nbformat_minor": 5
}
