{
 "cells": [
  {
   "cell_type": "code",
   "execution_count": 1,
   "id": "10cb4767",
   "metadata": {},
   "outputs": [
    {
     "name": "stdout",
     "output_type": "stream",
     "text": [
      "Alternate elements of list:\n",
      "a\n",
      "p\n",
      "e\n"
     ]
    }
   ],
   "source": [
    "# 1. Write a program that accepts a list from user and print the alternate element of list. \n",
    "\n",
    "list = input(\"Enter a list of elements: \")\n",
    "print(\"Alternate elements of list:\")\n",
    "for i in range(0, len(list), 2):\n",
    "    print(list[i])"
   ]
  },
  {
   "cell_type": "code",
   "execution_count": 4,
   "id": "5a5e8ab4",
   "metadata": {},
   "outputs": [
    {
     "name": "stdout",
     "output_type": "stream",
     "text": [
      "Reversed list: ['e', 'l', 'p', 'p', 'a']\n"
     ]
    }
   ],
   "source": [
    "# 2. Write a program that accepts a list from user. Your program should reverse the content of list and \n",
    "# display it. Do not use reverse() method.\n",
    "\n",
    "list = input(\"Enter a list of elements: \")\n",
    "reversed_list = []\n",
    "for i in range(len(list) - 1, -1, -1):\n",
    "    reversed_list.append(list[i])\n",
    "print(\"Reversed list:\", reversed_list)\n"
   ]
  },
  {
   "cell_type": "code",
   "execution_count": null,
   "id": "eadf56cb",
   "metadata": {},
   "outputs": [
    {
     "name": "stdout",
     "output_type": "stream",
     "text": [
      "The largest number in the list is: 7\n"
     ]
    }
   ],
   "source": [
    "# 3. Find and display the largest number of a list without using built-in function max(). Your program \n",
    "# should ask the user to input values in list from keyboard.  \n",
    "\n",
    "list = []\n",
    "n = int(input(\"Enter the no of elements: \"))\n",
    "for i in range(n):\n",
    "    element = int(input(\"Enter element: \"))\n",
    "    list.append(element)\n",
    "\n",
    "largest = list[0]\n",
    "for i in range(1, len(list)):\n",
    "    if list[i] > largest:\n",
    "        largest = list[i]\n",
    "print(\"The largest number in the list is:\", largest)\n"
   ]
  },
  {
   "cell_type": "code",
   "execution_count": null,
   "id": "0a28339d",
   "metadata": {},
   "outputs": [
    {
     "name": "stdout",
     "output_type": "stream",
     "text": [
      "Rotated list: [5, 1, 2, 3, 4]\n"
     ]
    }
   ],
   "source": [
    "# 4. Write a program that rotates the element of a list so that the element at the first index moves to the \n",
    "# second index, the element in the second index moves to the third index, etc., and the element in the last \n",
    "# index moves to the first index.\n",
    "\n",
    "items = [1, 2, 3, 4, 5]\n",
    "\n",
    "last = items[-1]       \n",
    "for i in range(len(items)-1, 0, -1):\n",
    "    items[i] = items[i-1]\n",
    "items[0] = last\n",
    "\n",
    "print(\"Rotated list:\", items)\n"
   ]
  },
  {
   "cell_type": "code",
   "execution_count": 10,
   "id": "05e0a15f",
   "metadata": {},
   "outputs": [
    {
     "name": "stdout",
     "output_type": "stream",
     "text": [
      "After deleting: this is data ebhineering class \n"
     ]
    }
   ],
   "source": [
    "# 5. Write a program that input a string and ask user to delete a given word from a string.\n",
    "\n",
    "sen = input(\"Enter a sentence: \")\n",
    "word = input(\"Enter word to delete: \")\n",
    "\n",
    "words = sen.split(\" \")   \n",
    "new_text = \"\"\n",
    "for w in words:\n",
    "    if w != word:\n",
    "        new_text = new_text + w + \" \"\n",
    "\n",
    "print(\"After deleting:\", new_text)\n"
   ]
  },
  {
   "cell_type": "code",
   "execution_count": 15,
   "id": "391ab14a",
   "metadata": {},
   "outputs": [
    {
     "name": "stdout",
     "output_type": "stream",
     "text": [
      "July 12, 2000\n"
     ]
    }
   ],
   "source": [
    "# 6. Write a program that reads a string from the user containing a date in the form mm/dd/yyyy. It \n",
    "# should print the date in the form March 12, 2021. \n",
    "\n",
    "date = input(\"Enter date (mm/dd/yyyy): \")\n",
    "\n",
    "month = int(date[0:2])\n",
    "day = date[3:5]\n",
    "year = date[6:]\n",
    "\n",
    "months = [\"January\", \"February\", \"March\", \"April\", \"May\", \"June\",\n",
    "          \"July\", \"August\", \"September\", \"October\", \"November\", \"December\"]\n",
    "\n",
    "print(months[month-1], day + \",\", year)\n"
   ]
  },
  {
   "cell_type": "code",
   "execution_count": 16,
   "id": "5e66999d",
   "metadata": {},
   "outputs": [
    {
     "name": "stdout",
     "output_type": "stream",
     "text": [
      "Capitalized: Hey There \n"
     ]
    }
   ],
   "source": [
    "# 7. Write a program that accepts a sentence from user and capitalize the first letter of each word \n",
    "sentence = input(\"Enter a sentence: \")\n",
    "\n",
    "words = sentence.split(\" \")\n",
    "new_sentence = \"\"\n",
    "for w in words:\n",
    "    if len(w) > 0:\n",
    "        first = w[0].upper()         \n",
    "        rest = w[1:].lower()         \n",
    "        new_sentence = new_sentence + first + rest + \" \"\n",
    "\n",
    "print(\"Capitalized:\", new_sentence)\n"
   ]
  }
 ],
 "metadata": {
  "kernelspec": {
   "display_name": "base",
   "language": "python",
   "name": "python3"
  },
  "language_info": {
   "codemirror_mode": {
    "name": "ipython",
    "version": 3
   },
   "file_extension": ".py",
   "mimetype": "text/x-python",
   "name": "python",
   "nbconvert_exporter": "python",
   "pygments_lexer": "ipython3",
   "version": "3.13.5"
  }
 },
 "nbformat": 4,
 "nbformat_minor": 5
}
