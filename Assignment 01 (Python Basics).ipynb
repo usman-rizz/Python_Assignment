{
 "cells": [
  {
   "cell_type": "markdown",
   "metadata": {},
   "source": [
    "# Part -1 Python Basics (Variables)"
   ]
  },
  {
   "cell_type": "markdown",
   "metadata": {},
   "source": [
    "1. Print Your Name with your Father name and Date of birth using suitable escape sequence charactor"
   ]
  },
  {
   "cell_type": "code",
   "execution_count": 22,
   "metadata": {},
   "outputs": [
    {
     "name": "stdout",
     "output_type": "stream",
     "text": [
      "==================Personal Information=====================\n",
      "Muhammad Usman\n",
      "Muhammad Riaz Uddin\n",
      "31-july-2003\n"
     ]
    }
   ],
   "source": [
    "# Write your code here\n",
    "name = input(\"Enter your name:\")\n",
    "f_name = input(\"Enter your Father name:\")\n",
    "dbo = input(\"Date of Birth:\")\n",
    "\n",
    "print(\"==================Personal Information=====================\")\n",
    "print(f\"{name + \"\\n\" + f_name +\"\\n\" + dbo}\")\n"
   ]
  },
  {
   "cell_type": "markdown",
   "metadata": {},
   "source": [
    "2. Write your small bio using variables and print it using print function"
   ]
  },
  {
   "cell_type": "code",
   "execution_count": 3,
   "metadata": {},
   "outputs": [
    {
     "name": "stdout",
     "output_type": "stream",
     "text": [
      "Muhammad Usman\n"
     ]
    }
   ],
   "source": [
    "# Write your code here\n",
    "name = \"Muhammad Usman\"\n",
    "print(name)"
   ]
  },
  {
   "cell_type": "markdown",
   "metadata": {},
   "source": [
    "3. Write a program in which use all the operators we can use in Python"
   ]
  },
  {
   "cell_type": "code",
   "execution_count": 18,
   "metadata": {},
   "outputs": [
    {
     "name": "stdout",
     "output_type": "stream",
     "text": [
      "===========Mathematical operatators=================\n",
      "Addition:  15\n",
      "Substraction: 5\n",
      "Multiplication:  50\n",
      "Division: 2.0\n",
      "Modolus 0\n",
      "Exponent:  100000\n",
      "===========Comparision operatators=================\n",
      "True\n",
      "False\n",
      "False\n",
      "True\n"
     ]
    }
   ],
   "source": [
    "# Write your code here\n",
    "a = 10\n",
    "b = 5\n",
    "print(\"===========Mathematical operatators=================\")\n",
    "print(\"Addition: \", a+b)\n",
    "print(\"Substraction:\", a-b)\n",
    "print(\"Multiplication: \", a*b)\n",
    "print(\"Division:\",a/b)\n",
    "print(\"Modolus\", a%b)\n",
    "print(\"Exponent: \", a**b)\n",
    "\n",
    "print(\"===========Comparision operatators=================\") #output will be in the form of bool\n",
    "print(a>b)\n",
    "print(a<b)\n",
    "print(a==b)\n",
    "print(a != b)"
   ]
  },
  {
   "cell_type": "markdown",
   "metadata": {},
   "source": [
    "4. Completes the following steps of small task:\n",
    "    - Mention Marks of English , Islamiat and Maths out of 100 in 3 different variables\n",
    "    - Mention Variable of Total Marks and assign 300 to it\n",
    "    - Calculate Percentage"
   ]
  },
  {
   "cell_type": "code",
   "execution_count": 21,
   "metadata": {},
   "outputs": [
    {
     "name": "stdout",
     "output_type": "stream",
     "text": [
      "Total Marks 250\n",
      "83.33333333333333\n"
     ]
    }
   ],
   "source": [
    "# Write your code here\n",
    "eng = int(input(\"Enter eng marks: \"))\n",
    "isl = int(input(\"Enter Isl marks: \"))\n",
    "math = int(input(\"Enter math marks: \"))\n",
    "\n",
    "total_marks = (eng + isl + math) \n",
    "print(\"Total Marks\", total_marks)\n",
    "\n",
    "percentage = float(total_marks*100) / 300\n",
    "print(percentage)"
   ]
  },
  {
   "cell_type": "markdown",
   "metadata": {},
   "source": [
    "# Part -2 Python Basics (Conditional Statements)"
   ]
  },
  {
   "cell_type": "markdown",
   "metadata": {},
   "source": [
    "1) A company decided to give bonus of 5% to employee if his/her year of service is more than 5 years.\n",
    "Ask user for their salary and year of service and print the net bonus amount."
   ]
  },
  {
   "cell_type": "code",
   "execution_count": 27,
   "metadata": {},
   "outputs": [
    {
     "name": "stdout",
     "output_type": "stream",
     "text": [
      "Congragulations! You got a Bonous  5000.0\n"
     ]
    }
   ],
   "source": [
    "#Type your code here\n",
    "salary = int(input(\"Enter Salary: \"))\n",
    "year = int(input(\"Enter the Year: \" ))\n",
    "\n",
    "if year > 5:\n",
    "    bonous =salary * 0.05\n",
    "    print(\"Congragulations! You got a Bonous \", bonous)\n",
    "    \n",
    "else:\n",
    "    print(\"You are not eligible\")"
   ]
  },
  {
   "cell_type": "markdown",
   "metadata": {},
   "source": [
    "\n",
    "2) Write a program to check whether a person is eligible for voting or not. (accept age from user) if age is greater than 17 eligible otherwise not eligible"
   ]
  },
  {
   "cell_type": "code",
   "execution_count": 25,
   "metadata": {},
   "outputs": [
    {
     "name": "stdout",
     "output_type": "stream",
     "text": [
      "Eligible for voting\n"
     ]
    }
   ],
   "source": [
    "#Type your code here\n",
    "\n",
    "age = int(input(\"Enter the age: \"))\n",
    "\n",
    "if age > 17:  \n",
    "    print(\"Eligible for voting\")\n",
    "else:\n",
    "    print(\"Not eligible for voting\")    \n",
    "    "
   ]
  },
  {
   "cell_type": "markdown",
   "metadata": {},
   "source": [
    "\n",
    "3) Write a program to check whether a number entered by user is even or odd."
   ]
  },
  {
   "cell_type": "code",
   "execution_count": 23,
   "metadata": {},
   "outputs": [
    {
     "name": "stdout",
     "output_type": "stream",
     "text": [
      "7 Its Odd\n"
     ]
    }
   ],
   "source": [
    "#Type your code here\n",
    "\n",
    "num = int(input(\"Enter a Number to decide whether it is even or odd: \"))\n",
    "if num % 2 == 0:\n",
    "    print(num, \"Its even\")\n",
    "else:\n",
    "    print(num, \"Its Odd\")    "
   ]
  },
  {
   "cell_type": "markdown",
   "metadata": {},
   "source": [
    "4) Write a program to check whether a number is divisible by 7 or not.\n",
    "Show Answer"
   ]
  },
  {
   "cell_type": "code",
   "execution_count": 24,
   "metadata": {},
   "outputs": [
    {
     "name": "stdout",
     "output_type": "stream",
     "text": [
      "6 It is not divisible by 7\n"
     ]
    }
   ],
   "source": [
    "#Type your code here\n",
    "num = int(input(\"Enter a number: \"))\n",
    "\n",
    "if num % 7 == 0:\n",
    "    print(num, \"It is divisible by 7\")\n",
    "else:\n",
    "    print(num, \"It is not divisible by 7\")    "
   ]
  },
  {
   "cell_type": "markdown",
   "metadata": {},
   "source": [
    "5) Write a program to display \n",
    "\"Hello\" if a number entered by user is a multiple of five , otherwise print \"Bye\"."
   ]
  },
  {
   "cell_type": "code",
   "execution_count": null,
   "metadata": {},
   "outputs": [],
   "source": [
    "#Type your code here\n",
    "\n"
   ]
  },
  {
   "cell_type": "markdown",
   "metadata": {},
   "source": [
    "7) Write a program to display the last digit of a number.\n"
   ]
  },
  {
   "cell_type": "code",
   "execution_count": 42,
   "metadata": {},
   "outputs": [
    {
     "name": "stdout",
     "output_type": "stream",
     "text": [
      "9\n"
     ]
    }
   ],
   "source": [
    "#Type your code here\n",
    "number = 67689\n",
    "convert_N_I = str(number)\n",
    "last_digit = convert_N_I[-1]\n",
    "print(last_digit)"
   ]
  },
  {
   "cell_type": "markdown",
   "metadata": {},
   "source": [
    "9) Take values of length and breadth of a rectangle from user and print if it is square or rectangle."
   ]
  },
  {
   "cell_type": "code",
   "execution_count": 28,
   "metadata": {},
   "outputs": [
    {
     "name": "stdout",
     "output_type": "stream",
     "text": [
      "It is a Rectangle\n"
     ]
    }
   ],
   "source": [
    "#Type your code here \n",
    "rectLength = int(input(\"Enter Length of Rectangle: \"))\n",
    "recBreadth = int(input(\"Enter Breadth of Rectangle: \"))\n",
    "\n",
    "if rectLength > 5 and recBreadth > 7:\n",
    "    print(\"It is a Rectangle\")\n",
    "else:\n",
    "    print(\"It is a square\")     "
   ]
  },
  {
   "cell_type": "markdown",
   "metadata": {},
   "source": [
    "10) Take two int values from user and print greatest among them."
   ]
  },
  {
   "cell_type": "code",
   "execution_count": 31,
   "metadata": {},
   "outputs": [
    {
     "name": "stdout",
     "output_type": "stream",
     "text": [
      "5 is smaller \n"
     ]
    }
   ],
   "source": [
    "# Type your code here\n",
    "num1 =  int(input(\"Enter number 1: \"))\n",
    "num2 = int(input(\"Enter number 2: \"))\n",
    "\n",
    "if num1 > num2:\n",
    "    print(f\"{num1} is greatest \")\n",
    "else:\n",
    "    print(num2, \"is smaller \")    "
   ]
  },
  {
   "cell_type": "markdown",
   "metadata": {},
   "source": [
    "11) A shop will give discount of 10% if the cost of purchased quantity is more than 1000.\n",
    "Ask user for quantity\n",
    "Suppose, one unit will cost 100.\n",
    "Judge and print total cost for user."
   ]
  },
  {
   "cell_type": "code",
   "execution_count": 16,
   "metadata": {},
   "outputs": [],
   "source": [
    "#Type your code here"
   ]
  },
  {
   "cell_type": "markdown",
   "metadata": {},
   "source": [
    "12) A school has following rules for grading system:\n",
    "\n",
    "a. Below 25 - F\n",
    "\n",
    "b. 25 to 45 - E\n",
    "\n",
    "c. 45 to 50 - D\n",
    "\n",
    "d. 50 to 60 - C\n",
    "\n",
    "e. 60 to 80 - B\n",
    "\n",
    "f. Above 80 - A\n",
    "\n",
    "Ask user to enter marks and print the corresponding grade."
   ]
  },
  {
   "cell_type": "code",
   "execution_count": null,
   "metadata": {},
   "outputs": [
    {
     "name": "stdout",
     "output_type": "stream",
     "text": [
      "\t\t\t\t\t\t\tGRADING SYSTEM\n",
      "Average Marks: 326.0\n",
      "Your Grade is: A\n"
     ]
    }
   ],
   "source": [
    "#Type your code here\n",
    "print(\"\\t\\t\\t\\t\\t\\t\\tGRADING SYSTEM\")\n",
    "\n",
    "DSA = int(input(\"Enter marks of DSA: \"))\n",
    "ML = int(input(\"Enter marks of ML: \"))\n",
    "SE = int(input(\"Enter marks of SE: \"))\n",
    "\n",
    "average = (DSA + ML + SE) / 3\n",
    "if average < 25:\n",
    "    grade = 'F'\n",
    "elif 25 <= average < 45:\n",
    "    grade = 'E'\n",
    "elif 45 <= average < 50:\n",
    "    grade = 'D'\n",
    "elif 50 <= average < 60:\n",
    "    grade = 'C'\n",
    "elif 60 <= average <= 80:\n",
    "    grade = 'B'\n",
    "elif average > 80:\n",
    "    grade = 'A'\n",
    "else:\n",
    "    grade = 'Invalid'\n",
    "\n",
    "print(\"Average Marks:\", average)\n",
    "print(\"Your Grade is:\", grade)\n"
   ]
  },
  {
   "cell_type": "markdown",
   "metadata": {},
   "source": [
    "14)A student will not be allowed to sit in exam if his/her attendence is less than 75%.\n",
    "\n",
    "Take following input from user\n",
    "\n",
    "- Number of classes held\n",
    "\n",
    "- Number of classes attended.\n",
    "\n",
    "And print\n",
    "\n",
    "- percentage of class attended\n",
    "\n",
    "- Is student is allowed to sit in exam or not.\n"
   ]
  },
  {
   "cell_type": "code",
   "execution_count": null,
   "metadata": {},
   "outputs": [
    {
     "name": "stdout",
     "output_type": "stream",
     "text": [
      "Percentage of attendance: 80.0\n",
      "You are allowed to sit in the exam\n"
     ]
    }
   ],
   "source": [
    "#Type your code here\n",
    "\n",
    "totalNumberOfClasses = int(input(\"Enter total number of classes: \"))\n",
    "classAttend = int(input(\"Enter number of classes attended: \"))\n",
    "attendance = (classAttend / totalNumberOfClasses) * 100\n",
    "print(\"Percentage of attendance:\", attendance)\n",
    "if attendance < 75:\n",
    "    print(\"You are not allowed to sit in the exam\")\n",
    "else:\n",
    "    print(\"You are allowed to sit in the exam\")"
   ]
  },
  {
   "cell_type": "markdown",
   "metadata": {},
   "source": [
    "15) Modify the above question to allow student to sit if he/she has medical cause. Ask user if he/she has medical cause or not ( 'Y' or 'N' ) and print accordingly."
   ]
  },
  {
   "cell_type": "code",
   "execution_count": 3,
   "metadata": {},
   "outputs": [
    {
     "name": "stdout",
     "output_type": "stream",
     "text": [
      "\t\t\t\t\t\t\tGRADING SYSTEM\n",
      "You are allowed to sit for the exam due to medical reasons.\n"
     ]
    }
   ],
   "source": [
    "#Type your code here\n",
    "\n",
    "print(\"\\t\\t\\t\\t\\t\\t\\tGRADING SYSTEM\")\n",
    "medical_cause = input(\"Do you have any medical cause? (Y/N): \")\n",
    "if medical_cause == 'Y':\n",
    "    print(\"You are allowed to sit for the exam due to medical reasons.\")\n",
    "else:\n",
    "    print(\"You are not allowed to sit for the exam due to lack of medical cause.\")"
   ]
  },
  {
   "cell_type": "markdown",
   "metadata": {},
   "source": [
    "16) Write a program to check if a year is leap year or not.\n",
    "\n",
    "If a year is divisible by 4 then it is leap year but if the year is century year like 2000, 1900, 2100 then it must be divisible by 400."
   ]
  },
  {
   "cell_type": "code",
   "execution_count": 4,
   "metadata": {},
   "outputs": [
    {
     "name": "stdout",
     "output_type": "stream",
     "text": [
      "2002 is not a leap year.\n"
     ]
    }
   ],
   "source": [
    "#Type your code here\n",
    "def is_leap_year(year):\n",
    "    if (year % 4 == 0 and year % 100 != 0) or (year % 400 == 0):\n",
    "        return True\n",
    "    return False\n",
    "\n",
    "year = int(input(\"Enter year whether to check it is leap year or not: \"))\n",
    "if is_leap_year(year):\n",
    "    print(f\"{year} is a leap year.\")\n",
    "else:\n",
    "    print(f\"{year} is not a leap year.\")\n"
   ]
  },
  {
   "cell_type": "markdown",
   "metadata": {},
   "source": [
    "17) Ask user to enter age, gender ( M or F ), marital status ( Y or N ) and then using following rules print their place of service.\n",
    "\n",
    "if employee is female, then she will work only in urban areas.\n",
    "\n",
    "if employee is a male and age is in between 20 to 40 then he may work in anywhere\n",
    "\n",
    "if employee is male and age is in between 40 t0 60 then he will work in urban areas only.\n",
    "\n",
    "And any other input of age should print \"ERROR\""
   ]
  },
  {
   "cell_type": "code",
   "execution_count": null,
   "metadata": {},
   "outputs": [],
   "source": [
    "#Type your code here "
   ]
  },
  {
   "cell_type": "code",
   "execution_count": null,
   "metadata": {},
   "outputs": [
    {
     "name": "stdout",
     "output_type": "stream",
     "text": [
      "These employees work in urban area\n"
     ]
    }
   ],
   "source": [
    "#  employee = {\n",
    "\n",
    "     \n",
    "#          'age' : int(input(\"Enter age\" ))\n",
    "#          'gender':  input(\"Enter Gender (M/F)\") \n",
    "     \n",
    "#  }\n",
    " \n",
    "age = int(input(\"Enter age of Employee: \"))\n",
    "gender =  input(\"Enter Gender (M/F): \")\n",
    "materialStatus = input(\"Enter Material Status (Y/N): \")\n",
    "\n",
    "if gender == 'F':\n",
    "    print(\"Female only works in urban area\")\n",
    "elif (gender == \"M\"):\n",
    "    if (age >=20  and age < 40 ):\n",
    "        print(\"This employee can work anywhere\")\n",
    "    else:\n",
    "        age >=40  and age < 60\n",
    "        print(\"These employees work in urban area\") \n",
    "else:\n",
    "    print(\"ERROR\")               "
   ]
  },
  {
   "cell_type": "markdown",
   "metadata": {},
   "source": [
    "6) Write a program to calculate the electricity bill (accept number of unit from user) according to the following criteria :\n",
    "     Unit                                                     Price  \n",
    "uptp 100 units                                             no charge\n",
    "Next 200 units                                              Rs 5 per unit\n",
    "After 200 units                                             Rs 10 per unit\n",
    "(For example if input unit is 350 than total bill amount is Rs.3500\n",
    "(For example if input unit is 97 than total bill amount is Rs.0\n",
    "(For example if input unit is 150 than total bill amount is Rs.750"
   ]
  },
  {
   "cell_type": "code",
   "execution_count": 5,
   "metadata": {},
   "outputs": [
    {
     "name": "stdout",
     "output_type": "stream",
     "text": [
      "Total electricity bill: Rs. 1000\n"
     ]
    }
   ],
   "source": [
    "units = int(input(\"Enter the number of units consumed: \"))\n",
    "\n",
    "if units <= 100:\n",
    "    bill = 0\n",
    "elif units <= 300: \n",
    "    bill = (units - 100) * 5\n",
    "else:  # Units above 300\n",
    "    bill = (200 * 5) + (units - 300) * 10\n",
    "\n",
    "print(f\"Total electricity bill: Rs. {bill}\")\n",
    "\n"
   ]
  },
  {
   "cell_type": "markdown",
   "metadata": {},
   "source": [
    "13) Take input of age of 3 people by user and determine oldest and youngest among them."
   ]
  },
  {
   "cell_type": "code",
   "execution_count": 7,
   "metadata": {},
   "outputs": [
    {
     "name": "stdout",
     "output_type": "stream",
     "text": [
      "The youngest age is: 12\n",
      "The oldest age is: 20\n"
     ]
    }
   ],
   "source": [
    "#Type your code here\n",
    "age1 = int(input(\"Enter age1: \"))\n",
    "age2 = int(input(\"Enter age2: \"))\n",
    "age3 = int(input(\"Enter age3: \"))\n",
    "\n",
    "# determine youngest and oldest\n",
    "if age1 < age2 and age1 < age3:\n",
    "    youngest = age1\n",
    "else:\n",
    "    youngest = age2 if age2 < age3 else age3\n",
    "\n",
    "if age1 > age2 and age1 > age3:\n",
    "    oldest = age1\n",
    "else:\n",
    "    oldest = age2 if age2 > age3 else age3\n",
    "\n",
    "print(f\"The youngest age is: {youngest}\")\n",
    "print(f\"The oldest age is: {oldest}\")\n"
   ]
  }
 ],
 "metadata": {
  "kernelspec": {
   "display_name": "base",
   "language": "python",
   "name": "python3"
  },
  "language_info": {
   "codemirror_mode": {
    "name": "ipython",
    "version": 3
   },
   "file_extension": ".py",
   "mimetype": "text/x-python",
   "name": "python",
   "nbconvert_exporter": "python",
   "pygments_lexer": "ipython3",
   "version": "3.13.5"
  }
 },
 "nbformat": 4,
 "nbformat_minor": 2
}
